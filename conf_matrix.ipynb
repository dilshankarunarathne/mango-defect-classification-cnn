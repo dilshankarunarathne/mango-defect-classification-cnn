{
 "cells": [
  {
   "cell_type": "code",
   "outputs": [],
   "source": [
    "import os\n",
    "import pandas as pd \n",
    "from sklearn.model_selection import train_test_split\n",
    "import tensorflow as tf\n",
    "from sklearn.preprocessing import LabelEncoder\n",
    "from joblib import dump\n",
    "from tensorflow.keras.optimizers import RMSprop\n",
    "from tensorflow.keras.preprocessing.image import ImageDataGenerator\n",
    "import matplotlib.pyplot as plt"
   ],
   "metadata": {
    "collapsed": false,
    "ExecuteTime": {
     "end_time": "2024-01-29T08:26:57.325982400Z",
     "start_time": "2024-01-29T08:26:54.387797200Z"
    }
   },
   "id": "82a458eec21cef27",
   "execution_count": 1
  },
  {
   "cell_type": "code",
   "outputs": [],
   "source": [
    "label_encoder = LabelEncoder()"
   ],
   "metadata": {
    "collapsed": false,
    "ExecuteTime": {
     "end_time": "2024-01-29T08:26:57.334194400Z",
     "start_time": "2024-01-29T08:26:57.326979500Z"
    }
   },
   "id": "e051f7df29e7c3b7",
   "execution_count": 2
  },
  {
   "cell_type": "code",
   "outputs": [],
   "source": [
    "data_dir = './accuracy-check'\n",
    "batch_size = 64\n",
    "epochs = 30\n",
    "input_shape = (300, 300, 3)\n",
    "image_paths = []\n",
    "labels = []\n",
    "\n",
    "for category in os.listdir(data_dir):\n",
    "    category_dir = os.path.join(data_dir, category)\n",
    "    if os.path.isdir(category_dir):\n",
    "        for image_filename in os.listdir(category_dir):\n",
    "            if image_filename.endswith('.jpg'):\n",
    "                image_path = os.path.join(category_dir, image_filename)\n",
    "                image_paths.append(image_path)\n",
    "                labels.append(category)\n",
    "train_image_paths, test_image_paths, train_labels, test_labels = train_test_split(image_paths, labels, test_size=0.4, random_state=16)"
   ],
   "metadata": {
    "collapsed": false,
    "ExecuteTime": {
     "end_time": "2024-01-29T08:49:10.705796900Z",
     "start_time": "2024-01-29T08:49:10.686889400Z"
    }
   },
   "id": "598c8ed102eceabe",
   "execution_count": 66
  },
  {
   "cell_type": "code",
   "execution_count": 67,
   "id": "initial_id",
   "metadata": {
    "collapsed": true,
    "ExecuteTime": {
     "end_time": "2024-01-29T08:49:14.946519600Z",
     "start_time": "2024-01-29T08:49:11.193570300Z"
    }
   },
   "outputs": [
    {
     "name": "stdout",
     "output_type": "stream",
     "text": [
      "11/11 [==============================] - 1s 120ms/step\n",
      "[[189   5]\n",
      " [ 12 138]]\n",
      "F1 Score: 0.949470773750378\n"
     ]
    }
   ],
   "source": [
    "from sklearn.metrics import confusion_matrix\n",
    "from tensorflow.keras.models import load_model\n",
    "from tensorflow.keras.preprocessing.image import load_img, img_to_array\n",
    "import numpy as np\n",
    "from sklearn.metrics import f1_score\n",
    "import joblib\n",
    "\n",
    "# Load the saved model\n",
    "model = load_model('new_mango.h5')\n",
    "\n",
    "# Prepare test data\n",
    "test_images = []\n",
    "for image_path in test_image_paths:\n",
    "    img = load_img(image_path, target_size=(150, 150))\n",
    "    img_array = img_to_array(img)\n",
    "    img_array_expanded_dims = np.expand_dims(img_array, axis=0)\n",
    "    test_images.append(img_array_expanded_dims)\n",
    "\n",
    "test_images = np.vstack(test_images)\n",
    "\n",
    "# Predict the probabilities\n",
    "probabilities = model.predict(test_images)\n",
    "\n",
    "# Convert probabilities to class labels\n",
    "predictions = np.argmax(probabilities, axis=-1)\n",
    "\n",
    "# Convert test labels to encoded form\n",
    "encoded_test_labels = label_encoder.transform(test_labels)\n",
    "\n",
    "# Generate confusion matrix\n",
    "conf_matrix = confusion_matrix(encoded_test_labels, predictions)\n",
    "print(conf_matrix)\n",
    "\n",
    "# Calculate F1 score\n",
    "f1 = f1_score(encoded_test_labels, predictions, average='macro')\n",
    "print(f'F1 Score: {f1}')"
   ]
  },
  {
   "cell_type": "code",
   "outputs": [
    {
     "name": "stdout",
     "output_type": "stream",
     "text": [
      "11/11 [==============================] - 1s 118ms/step\n",
      "[[189   5]\n",
      " [ 12 138]]\n"
     ]
    }
   ],
   "source": [
    "# Predict the probabilities\n",
    "probabilities = model.predict(test_images)\n",
    "\n",
    "# Convert probabilities to class labels\n",
    "predictions = np.argmax(probabilities, axis=-1)\n",
    "\n",
    "# The rest of your code remains the same\n",
    "encoded_test_labels = label_encoder.transform(test_labels)\n",
    "conf_matrix = confusion_matrix(encoded_test_labels, predictions)\n",
    "print(conf_matrix)"
   ],
   "metadata": {
    "collapsed": false,
    "ExecuteTime": {
     "end_time": "2024-01-29T08:49:26.434457700Z",
     "start_time": "2024-01-29T08:49:25.068986900Z"
    }
   },
   "id": "8269e58d136d696d",
   "execution_count": 68
  },
  {
   "cell_type": "code",
   "outputs": [
    {
     "data": {
      "text/plain": "<Figure size 1000x1000 with 1 Axes>",
      "image/png": "[encoded data removed]"
     },
     "metadata": {},
     "output_type": "display_data"
    }
   ],
   "source": [
    "import seaborn as sns\n",
    "sns.set_style('darkgrid')\n",
    "plt.figure(figsize=(10, 10))\n",
    "sns.heatmap(conf_matrix, annot=True, cmap='Blues', fmt='d', cbar=False)\n",
    "plt.xlabel('Predicted Labels')\n",
    "plt.ylabel('True Labels')\n",
    "plt.show()"
   ],
   "metadata": {
    "collapsed": false,
    "ExecuteTime": {
     "end_time": "2024-01-29T08:49:27.641634500Z",
     "start_time": "2024-01-29T08:49:27.515579Z"
    }
   },
   "id": "b101ae5530a12b67",
   "execution_count": 69
  },
  {
   "cell_type": "code",
   "outputs": [
    {
     "name": "stdout",
     "output_type": "stream",
     "text": [
      "F1 Score: 0.949470773750378\n"
     ]
    }
   ],
   "source": [
    "from sklearn.metrics import f1_score\n",
    "\n",
    "# Calculate F1 score\n",
    "f1 = f1_score(encoded_test_labels, predictions, average='macro')\n",
    "print(f'F1 Score: {f1}')"
   ],
   "metadata": {
    "collapsed": false,
    "ExecuteTime": {
     "end_time": "2024-01-29T08:49:31.686459500Z",
     "start_time": "2024-01-29T08:49:31.676039500Z"
    }
   },
   "id": "ad4f2c59b3ca970c",
   "execution_count": 70
  },
  {
   "cell_type": "code",
   "outputs": [],
   "source": [],
   "metadata": {
    "collapsed": false
   },
   "id": "b3128232435d825b"
  }
 ],
 "metadata": {
  "kernelspec": {
   "display_name": "Python 3",
   "language": "python",
   "name": "python3"
  },
  "language_info": {
   "codemirror_mode": {
    "name": "ipython",
    "version": 2
   },
   "file_extension": ".py",
   "mimetype": "text/x-python",
   "name": "python",
   "nbconvert_exporter": "python",
   "pygments_lexer": "ipython2",
   "version": "2.7.6"
  }
 },
 "nbformat": 4,
 "nbformat_minor": 5
}
