{
 "cells": [
  {
   "cell_type": "code",
   "execution_count": null,
   "id": "initial_id",
   "metadata": {
    "collapsed": true,
    "is_executing": true,
    "ExecuteTime": {
     "start_time": "2024-01-27T05:47:13.863288400Z"
    }
   },
   "outputs": [],
   "source": [
    "import tensorflow as tf\n",
    "from tensorflow.keras.preprocessing import image\n",
    "import numpy as np"
   ]
  },
  {
   "cell_type": "code",
   "execution_count": 2,
   "outputs": [],
   "source": [
    "# Load the saved model\n",
    "model = tf.keras.models.load_model('new_mango.h5')"
   ],
   "metadata": {
    "collapsed": false,
    "ExecuteTime": {
     "end_time": "2023-12-20T04:55:14.862482100Z",
     "start_time": "2023-12-20T04:55:14.546363800Z"
    }
   },
   "id": "5770a3b5f85f6d19"
  },
  {
   "cell_type": "code",
   "execution_count": 8,
   "outputs": [],
   "source": [
    "# Load the image\n",
    "img_path = 'test.jpg'  # replace with the path of your image\n",
    "img = image.load_img(img_path, target_size=(150, 150))"
   ],
   "metadata": {
    "collapsed": false,
    "ExecuteTime": {
     "end_time": "2023-12-20T04:55:59.929085300Z",
     "start_time": "2023-12-20T04:55:59.913893100Z"
    }
   },
   "id": "e7f08d3d3c8cda52"
  },
  {
   "cell_type": "code",
   "execution_count": 9,
   "outputs": [],
   "source": [
    "# Preprocess the image\n",
    "img_array = image.img_to_array(img)\n",
    "img_array = np.expand_dims(img_array, axis=0)\n",
    "img_array /= 255."
   ],
   "metadata": {
    "collapsed": false,
    "ExecuteTime": {
     "end_time": "2023-12-20T04:56:00.536384300Z",
     "start_time": "2023-12-20T04:56:00.527141200Z"
    }
   },
   "id": "94df8d5940881431"
  },
  {
   "cell_type": "code",
   "execution_count": 10,
   "outputs": [
    {
     "name": "stdout",
     "output_type": "stream",
     "text": [
      "1/1 [==============================] - 0s 33ms/step\n"
     ]
    }
   ],
   "source": [
    "# Make a prediction\n",
    "prediction = model.predict(img_array)"
   ],
   "metadata": {
    "collapsed": false,
    "ExecuteTime": {
     "end_time": "2023-12-20T04:56:01.126720600Z",
     "start_time": "2023-12-20T04:56:01.049056400Z"
    }
   },
   "id": "d088749ea46bb46d"
  },
  {
   "cell_type": "code",
   "execution_count": 11,
   "outputs": [],
   "source": [
    "# Get the class with highest probability\n",
    "predicted_class = np.argmax(prediction)"
   ],
   "metadata": {
    "collapsed": false,
    "ExecuteTime": {
     "end_time": "2023-12-20T04:56:01.716780300Z",
     "start_time": "2023-12-20T04:56:01.704624600Z"
    }
   },
   "id": "fbdd46cc7aa17294"
  },
  {
   "cell_type": "code",
   "execution_count": 12,
   "outputs": [
    {
     "name": "stdout",
     "output_type": "stream",
     "text": [
      "2\n"
     ]
    }
   ],
   "source": [
    "# Print the predicted class\n",
    "print(predicted_class)"
   ],
   "metadata": {
    "collapsed": false,
    "ExecuteTime": {
     "end_time": "2023-12-20T04:56:02.753982700Z",
     "start_time": "2023-12-20T04:56:02.738037700Z"
    }
   },
   "id": "1dcb08c2183bb237"
  },
  {
   "cell_type": "code",
   "outputs": [],
   "source": [
    "from sklearn.metrics import accuracy_score\n",
    "\n",
    "# Assuming actual_class is the actual class of the image\n",
    "actual_class = [1]  # replace with the actual class of your image\n",
    "\n",
    "# Convert predicted_class to list and compare with actual_class\n",
    "predicted_class = [predicted_class]\n",
    "\n",
    "# Calculate accuracy\n",
    "accuracy = accuracy_score(actual_class, predicted_class)\n",
    "\n",
    "print(\"Accuracy: \", accuracy)"
   ],
   "metadata": {
    "collapsed": false
   },
   "id": "c0f9ca6ec879eae4"
  }
 ],
 "metadata": {
  "kernelspec": {
   "display_name": "Python 3",
   "language": "python",
   "name": "python3"
  },
  "language_info": {
   "codemirror_mode": {
    "name": "ipython",
    "version": 2
   },
   "file_extension": ".py",
   "mimetype": "text/x-python",
   "name": "python",
   "nbconvert_exporter": "python",
   "pygments_lexer": "ipython2",
   "version": "2.7.6"
  }
 },
 "nbformat": 4,
 "nbformat_minor": 5
}
