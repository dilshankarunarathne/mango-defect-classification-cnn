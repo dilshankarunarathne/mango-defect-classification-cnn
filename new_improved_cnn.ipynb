{
 "cells": [
  {
   "cell_type": "code",
   "execution_count": null,
   "id": "initial_id",
   "metadata": {
    "collapsed": true
   },
   "outputs": [],
   "source": [
    "import numpy as np \n",
    "import pandas as pd "
   ]
  },
  {
   "cell_type": "code",
   "outputs": [],
   "source": [
    "import os\n",
    "for dirname, _, filenames in os.walk('.\\input'):\n",
    "    for filename in filenames:\n",
    "        print(os.path.join(dirname, filename))"
   ],
   "metadata": {
    "collapsed": false
   },
   "id": "e02f846c1a63f12c"
  },
  {
   "cell_type": "code",
   "outputs": [],
   "source": [
    "# Directory with our training horse pictures\n",
    "a_dir = os.path.join('./input/MangoFruitDDS/SenMangoFruitDDS_original/Alternaria')\n",
    "\n",
    "# Directory with our training human pictures\n",
    "b_dir = os.path.join('./input/MangoFruitDDS/SenMangoFruitDDS_original/Anthracnose')\n",
    "\n",
    "# Directory with our training horse pictures\n",
    "c_dir = os.path.join('./input/MangoFruitDDS/SenMangoFruitDDS_original/Black Mould Rot')\n",
    "\n",
    "# Directory with our training human pictures\n",
    "d_dir = os.path.join('./input/MangoFruitDDS/SenMangoFruitDDS_original/Healthy')\n",
    "\n",
    "# Directory with our training horse pictures\n",
    "e_dir = os.path.join('./input/MangoFruitDDS/SenMangoFruitDDS_original/Stem end Rot')"
   ],
   "metadata": {
    "collapsed": false
   },
   "id": "700aa5f7824726d3"
  },
  {
   "cell_type": "code",
   "outputs": [],
   "source": [
    "a_names = os.listdir(a_dir)\n",
    "print(a_names[:10])\n",
    "b_names = os.listdir(b_dir)\n",
    "print(b_names[:10])\n",
    "c_names = os.listdir(c_dir)\n",
    "print(c_names[:10])\n",
    "d_names = os.listdir(d_dir)\n",
    "print(d_names[:10])\n",
    "e_names = os.listdir(e_dir)\n",
    "print(e_names[:10])"
   ],
   "metadata": {
    "collapsed": false
   },
   "id": "f10ab2075ab487f3"
  },
  {
   "cell_type": "code",
   "outputs": [],
   "source": [
    "print('total Alternaria images:', len(os.listdir(a_dir)))\n",
    "print('total Anthracnose images:', len(os.listdir(b_dir)))\n",
    "print('total Black Mould Rot images:', len(os.listdir(c_dir)))\n",
    "print('total Healthy images:', len(os.listdir(a_dir)))\n",
    "print('total Stem end Rot images:', len(os.listdir(a_dir)))"
   ],
   "metadata": {
    "collapsed": false
   },
   "id": "56ed969c107b98ee"
  },
  {
   "cell_type": "code",
   "outputs": [],
   "source": [
    "%matplotlib inline\n",
    "\n",
    "import matplotlib.pyplot as plt\n",
    "import matplotlib.image as mpimg\n",
    "\n",
    "# Parameters for our graph; we'll output images in a 4x4 configuration\n",
    "nrows = 10\n",
    "ncols = 4\n",
    "\n",
    "# Index for iterating over images\n",
    "pic_index = 0"
   ],
   "metadata": {
    "collapsed": false
   },
   "id": "6e1f6e69e5ec63c8"
  },
  {
   "cell_type": "code",
   "outputs": [],
   "source": [
    "# Set up matplotlib fig, and size it to fit 4x4 pics\n",
    "fig = plt.gcf()\n",
    "fig.set_size_inches(ncols * 4, nrows * 4)\n",
    "\n",
    "pic_index += 8\n",
    "a_pix = [os.path.join(a_dir, fname)\n",
    "                for fname in a_names[pic_index-8:pic_index]]\n",
    "b_pix = [os.path.join(b_dir, fname)\n",
    "                for fname in b_names[pic_index-8:pic_index]]\n",
    "c_pix = [os.path.join(c_dir, fname)\n",
    "                for fname in c_names[pic_index-8:pic_index]]\n",
    "d_pix = [os.path.join(d_dir, fname)\n",
    "                for fname in d_names[pic_index-8:pic_index]]\n",
    "e_pix = [os.path.join(e_dir, fname)\n",
    "                for fname in e_names[pic_index-8:pic_index]]\n",
    "\n",
    "for i, img_path in enumerate(a_pix + b_pix + c_pix + d_pix + e_pix):\n",
    "  sp = plt.subplot(nrows, ncols, (i % (nrows * ncols)) + 1)\n",
    "  sp.axis('Off')\n",
    "  img = mpimg.imread(img_path)\n",
    "  plt.imshow(img)"
   ],
   "metadata": {
    "collapsed": false
   },
   "id": "40fc24a09d9af28"
  },
  {
   "cell_type": "code",
   "outputs": [],
   "source": [
    "from sklearn.model_selection import train_test_split\n",
    "data_dir = './input/MangoFruitDDS/SenMangoFruitDDS_original'\n",
    "batch_size = 64\n",
    "epochs = 30\n",
    "input_shape = (300, 300, 3)\n",
    "image_paths = []\n",
    "labels = []\n",
    "\n",
    "for category in os.listdir(data_dir):\n",
    "    category_dir = os.path.join(data_dir, category)\n",
    "    if os.path.isdir(category_dir):\n",
    "        for image_filename in os.listdir(category_dir):\n",
    "            if image_filename.endswith('.jpg'):\n",
    "                image_path = os.path.join(category_dir, image_filename)\n",
    "                image_paths.append(image_path)\n",
    "                labels.append(category)\n",
    "train_image_paths, test_image_paths, train_labels, test_labels = train_test_split(image_paths, labels, test_size=0.2, random_state=42)"
   ],
   "metadata": {
    "collapsed": false
   },
   "id": "f83cdcfdc3ce1508"
  },
  {
   "cell_type": "code",
   "outputs": [],
   "source": [
    "len(train_image_paths),len(test_image_paths), len(train_labels), len(test_labels)"
   ],
   "metadata": {
    "collapsed": false
   },
   "id": "67855c8f8609b5ec"
  }
 ],
 "metadata": {
  "kernelspec": {
   "display_name": "Python 3",
   "language": "python",
   "name": "python3"
  },
  "language_info": {
   "codemirror_mode": {
    "name": "ipython",
    "version": 2
   },
   "file_extension": ".py",
   "mimetype": "text/x-python",
   "name": "python",
   "nbconvert_exporter": "python",
   "pygments_lexer": "ipython2",
   "version": "2.7.6"
  }
 },
 "nbformat": 4,
 "nbformat_minor": 5
}
