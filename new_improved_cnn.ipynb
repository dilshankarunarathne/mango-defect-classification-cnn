{
 "cells": [
  {
   "cell_type": "code",
   "execution_count": null,
   "id": "initial_id",
   "metadata": {
    "collapsed": true
   },
   "outputs": [],
   "source": [
    "import numpy as np \n",
    "import pandas as pd "
   ]
  },
  {
   "cell_type": "code",
   "outputs": [],
   "source": [
    "import os\n",
    "for dirname, _, filenames in os.walk('.\\input'):\n",
    "    for filename in filenames:\n",
    "        print(os.path.join(dirname, filename))"
   ],
   "metadata": {
    "collapsed": false
   },
   "id": "e02f846c1a63f12c"
  },
  {
   "cell_type": "code",
   "outputs": [],
   "source": [
    "# Directory with our training horse pictures\n",
    "a_dir = os.path.join('./input/MangoFruitDDS/SenMangoFruitDDS_original/Alternaria')\n",
    "\n",
    "# Directory with our training human pictures\n",
    "b_dir = os.path.join('./input/MangoFruitDDS/SenMangoFruitDDS_original/Anthracnose')\n",
    "\n",
    "# Directory with our training horse pictures\n",
    "c_dir = os.path.join('./input/MangoFruitDDS/SenMangoFruitDDS_original/Black Mould Rot')\n",
    "\n",
    "# Directory with our training human pictures\n",
    "d_dir = os.path.join('./input/MangoFruitDDS/SenMangoFruitDDS_original/Healthy')\n",
    "\n",
    "# Directory with our training horse pictures\n",
    "e_dir = os.path.join('./input/MangoFruitDDS/SenMangoFruitDDS_original/Stem end Rot')"
   ],
   "metadata": {
    "collapsed": false
   },
   "id": "700aa5f7824726d3"
  },
  {
   "cell_type": "code",
   "outputs": [],
   "source": [
    "a_names = os.listdir(a_dir)\n",
    "print(a_names[:10])\n",
    "b_names = os.listdir(b_dir)\n",
    "print(b_names[:10])\n",
    "c_names = os.listdir(c_dir)\n",
    "print(c_names[:10])\n",
    "d_names = os.listdir(d_dir)\n",
    "print(d_names[:10])\n",
    "e_names = os.listdir(e_dir)\n",
    "print(e_names[:10])"
   ],
   "metadata": {
    "collapsed": false
   },
   "id": "f10ab2075ab487f3"
  },
  {
   "cell_type": "code",
   "outputs": [],
   "source": [
    "%matplotlib inline\n",
    "\n",
    "import matplotlib.pyplot as plt\n",
    "import matplotlib.image as mpimg\n",
    "\n",
    "# Parameters for our graph; we'll output images in a 4x4 configuration\n",
    "nrows = 10\n",
    "ncols = 4\n",
    "\n",
    "# Index for iterating over images\n",
    "pic_index = 0"
   ],
   "metadata": {
    "collapsed": false
   },
   "id": "6e1f6e69e5ec63c8"
  }
 ],
 "metadata": {
  "kernelspec": {
   "display_name": "Python 3",
   "language": "python",
   "name": "python3"
  },
  "language_info": {
   "codemirror_mode": {
    "name": "ipython",
    "version": 2
   },
   "file_extension": ".py",
   "mimetype": "text/x-python",
   "name": "python",
   "nbconvert_exporter": "python",
   "pygments_lexer": "ipython2",
   "version": "2.7.6"
  }
 },
 "nbformat": 4,
 "nbformat_minor": 5
}
